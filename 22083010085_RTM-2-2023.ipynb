{
 "cells": [
  {
   "cell_type": "code",
   "execution_count": null,
   "id": "b52b20ef",
   "metadata": {},
   "outputs": [],
   "source": [
    "import mysql.connector\n",
    "\n",
    "my_db = mysql.connector.connect(\n",
    "            host=\"localhost\",\n",
    "            user=\"root\",\n",
    "            password=\"\",\n",
    "            database=\"db_klinik\" \n",
    "        )\n",
    "dp = my_db.cursor()\n",
    "\n",
    "if my_db.is_connected():\n",
    "    print(\"OKE\")"
   ]
  },
  {
   "cell_type": "code",
   "execution_count": null,
   "id": "8f0ef624",
   "metadata": {},
   "outputs": [],
   "source": [
    "class tb_pasien:\n",
    "    def add_tb_pasien(self, nama_lengkap, tahun_lahir, alamat, jenis_kelamin):\n",
    "        try:\n",
    "            sql = \"INSERT INTO tb_pasien (nama_lengkap, tahun_lahir, alamat, jenis_kelamin) VALUES (%s, %s, %s, %s)\"\n",
    "            val = (nama_lengkap, tahun_lahir, alamat, jenis_kelamin)\n",
    "            dp.execute(sql, val)\n",
    "            my_db.commit()\n",
    "            print(\"Data berhasil ditambahkan pada tb_pasien\")\n",
    "        except Exception as e:\n",
    "            print(\"Error: \", e)\n",
    "\n",
    "    def read_tb_pasien(self):\n",
    "        try:\n",
    "            sql = \"SELECT * FROM tb_pasien\"\n",
    "            dp.execute(sql)\n",
    "            result = dp.fetchall()\n",
    "            for row in result:\n",
    "                print(row)\n",
    "        except Exception as e:\n",
    "            print(\"Error: \", e)\n",
    "\n",
    "    def update_tb_pasien(self, nama_lengkap, tahun_lahir, alamat, jenis_kelamin, id_pasien):\n",
    "        try:\n",
    "            sql = \"UPDATE tb_pasien SET nama_lengkap=%s, tahun_lahir=%s, alamat=%s, jenis_kelamin=%s WHERE id_pasien=%s\"\n",
    "            val = (nama_lengkap, tahun_lahir, alamat, jenis_kelamin, id_pasien)\n",
    "            dp.execute(sql, val)\n",
    "            my_db.commit()\n",
    "            print(\"Data pada tb_pasien berhasil diupdate\")\n",
    "        except Exception as e:\n",
    "            print(\"Error: \", e)\n",
    "\n",
    "    def delete_tb_pasien(self, id_pasien):\n",
    "        try:\n",
    "            sql = \"DELETE FROM tb_pasien WHERE id_pasien=%s\"\n",
    "            val = (id_pasien,)\n",
    "            dp.execute(sql, val)\n",
    "            my_db.commit()\n",
    "            print(\"Data pada tb_pasien berhasil dihapus\")\n",
    "        except Exception as e:\n",
    "            print(\"Error: \", e)"
   ]
  },
  {
   "cell_type": "code",
   "execution_count": null,
   "id": "772e1791",
   "metadata": {},
   "outputs": [],
   "source": [
    "class tb_kunjungan:\n",
    "    def add_tb_kunjungan(self, no_kunjungan, id_pasien, id_dokter, hari_kunjungan):\n",
    "        try:\n",
    "            sql = \"INSERT INTO tb_kunjungan (no_kunjungan, id_pasien, id_dokter, hari_kunjungan) VALUES (%s, %s, %s, %s)\"\n",
    "            val = (no_kunjungan, id_pasien, id_dokter, hari_kunjungan)\n",
    "            dp.execute(sql, val)\n",
    "            my_db.commit()\n",
    "        except Exception as e:\n",
    "            print(\"Error: \",e)\n",
    "\n",
    "    def read_tb_kunjungan(self, no_kunjungan):\n",
    "        try:\n",
    "            sql = \"SELECT * FROM tb_kunjungan WHERE no_kunjungan = %s\"\n",
    "            val = (no_kunjungan,)\n",
    "            dp.execute(sql, val)\n",
    "            result = dp.fetchall()\n",
    "            return result\n",
    "        except Exception as e:\n",
    "            print(\"Error: \", e)\n",
    "\n",
    "    def update_tb_kunjungan(self, id_dokter, no_kunjungan):\n",
    "        try:\n",
    "            sql = \"UPDATE tb_kunjungan SET id_dokter = %s WHERE no_kunjungan = %s\"\n",
    "            val = (id_dokter, no_kunjungan)\n",
    "            dp.execute(sql, val)\n",
    "            my_db.commit()\n",
    "            print(\"Data tb_kunjungan berhasil diupdate\")\n",
    "        except Exception as e:\n",
    "            print(\"Error: \", e)\n",
    "\n",
    "    def delete_tb_kunjungan(self, no_kunjungan):\n",
    "        try:\n",
    "            sql = \"DELETE FROM tb_kunjungan WHERE no_kunjungan = %s\"\n",
    "            val = (no_kunjungan,)\n",
    "            dp.execute(sql, val)\n",
    "            my_db.commit()\n",
    "            print(\"Data tb_kunjungan berhasil dihapus\")\n",
    "        except Exception as e:\n",
    "            print(\"Error: \", e)"
   ]
  },
  {
   "cell_type": "code",
   "execution_count": null,
   "id": "4bfe6022",
   "metadata": {},
   "outputs": [],
   "source": [
    "class tb_dokter:\n",
    "    def add_tb_dokter(self, id_dokter, nama_dokter, alamat_dokter, jenis_kelamin):\n",
    "        try:\n",
    "            sql = \"INSERT INTO tb_dokter (id_dokter, nama_dokter, alamat_dokter, jenis_kelamin) VALUES (%s, %s, %s, %s)\"\n",
    "            val = (id_dokter, nama_dokter, alamat_dokter, jenis_kelamin)\n",
    "            dp.execute(sql, val)\n",
    "            my_db.commit()\n",
    "        except Exception as e:\n",
    "            print(\"Error: \",e)\n",
    "\n",
    "    def read_tb_dokter(self, id_dokter):\n",
    "        try:\n",
    "            sql = \"SELECT * FROM tb_dokter WHERE id_dokter = %s\"\n",
    "            val = (id_dokter,)\n",
    "            dp.execute(sql, val)\n",
    "            result = dp.fetchall()\n",
    "            return result\n",
    "        except Exception as e:\n",
    "            print(\"Error: \", e)\n",
    "\n",
    "    def update_tb_dokter(self, id_dokter, alamat_dokter):\n",
    "        try:\n",
    "            sql = \"UPDATE tb_dokter SET alamat_dokter = %s WHERE id_dokter = %s\"\n",
    "            val = (alamat_dokter, id_dokter)\n",
    "            dp.execute(sql, val)\n",
    "            my_db.commit()\n",
    "            print(\"Data tb_dokter berhasil diupdate\")\n",
    "        except Exception as e:\n",
    "            print(\"Error: \", e)\n",
    "\n",
    "    def delete_tb_dokter(self, id_dokter):\n",
    "        try:\n",
    "            sql = \"DELETE FROM tb_dokter WHERE id_dokter = %s\"\n",
    "            val = (id_dokter,)\n",
    "            dp.execute(sql, val)\n",
    "            my_db.commit()\n",
    "            print(\"Data tb_dokter berhasil dihapus\")\n",
    "        except Exception as e:\n",
    "            print(\"Error: \", e)"
   ]
  },
  {
   "cell_type": "markdown",
   "id": "976784ac",
   "metadata": {},
   "source": [
    "#### tb_pasien"
   ]
  },
  {
   "cell_type": "code",
   "execution_count": null,
   "id": "f91d33d1",
   "metadata": {},
   "outputs": [],
   "source": [
    "tb_pasien().add_tb_pasien(\"taufik\", \"2003\", \"jalan jalan\", \"1\")"
   ]
  },
  {
   "cell_type": "code",
   "execution_count": null,
   "id": "69cd0f53",
   "metadata": {},
   "outputs": [],
   "source": [
    "tb_pasien.read_tb_pasien(1)"
   ]
  },
  {
   "cell_type": "code",
   "execution_count": null,
   "id": "ccf1bbbc",
   "metadata": {},
   "outputs": [],
   "source": [
    "tb_pasien().update_tb_pasien(\"budi\", 2004, \"Jln. mawar\", 1,3)"
   ]
  },
  {
   "cell_type": "code",
   "execution_count": null,
   "id": "3b6af7c7",
   "metadata": {},
   "outputs": [],
   "source": [
    "tb_pasien.delete_tb_pasien(\"3\", \"id_pasien_value\")"
   ]
  },
  {
   "cell_type": "markdown",
   "id": "5fba6fca",
   "metadata": {},
   "source": [
    "#### tb_kunjungan"
   ]
  },
  {
   "cell_type": "code",
   "execution_count": null,
   "id": "f48dcc6e",
   "metadata": {},
   "outputs": [],
   "source": [
    "tb_kunjungan().add_tb_kunjungan('4', '2', 'selasa')"
   ]
  },
  {
   "cell_type": "code",
   "execution_count": null,
   "id": "ff53c960",
   "metadata": {},
   "outputs": [],
   "source": [
    "tb_kunjungan().read_tb_kunjungan(\"2\")"
   ]
  },
  {
   "cell_type": "code",
   "execution_count": null,
   "id": "15185769",
   "metadata": {},
   "outputs": [],
   "source": [
    "tb_kunjungan().update_tb_kunjungan(\"1\", \"2\")"
   ]
  },
  {
   "cell_type": "code",
   "execution_count": null,
   "id": "f2cfdf1f",
   "metadata": {},
   "outputs": [],
   "source": [
    "kunjungan.delete_tb_kunjungan(1)"
   ]
  },
  {
   "cell_type": "markdown",
   "id": "02621524",
   "metadata": {},
   "source": [
    "#### tb_dokter"
   ]
  },
  {
   "cell_type": "code",
   "execution_count": null,
   "id": "9dcd6a4b",
   "metadata": {},
   "outputs": [],
   "source": [
    "dokter.add_tb_dokter(\"D001\", \"Dr. John Doe\", \"Jl. Dokter No.1\", \"Laki-Laki\")"
   ]
  },
  {
   "cell_type": "code",
   "execution_count": null,
   "id": "6da4c08d",
   "metadata": {},
   "outputs": [],
   "source": [
    "result = tb_dokter().read_tb_dokter(4)"
   ]
  },
  {
   "cell_type": "code",
   "execution_count": null,
   "id": "4f36c537",
   "metadata": {},
   "outputs": [],
   "source": [
    "tb_kunjungan().update_tb_kunjungan(\"D002\", \"5\")"
   ]
  },
  {
   "cell_type": "code",
   "execution_count": null,
   "id": "13c63187",
   "metadata": {},
   "outputs": [],
   "source": [
    "dokter.delete_tb_dokter(5)"
   ]
  }
 ],
 "metadata": {
  "kernelspec": {
   "display_name": "Python 3 (ipykernel)",
   "language": "python",
   "name": "python3"
  },
  "language_info": {
   "codemirror_mode": {
    "name": "ipython",
    "version": 3
   },
   "file_extension": ".py",
   "mimetype": "text/x-python",
   "name": "python",
   "nbconvert_exporter": "python",
   "pygments_lexer": "ipython3",
   "version": "3.9.12"
  }
 },
 "nbformat": 4,
 "nbformat_minor": 5
}
